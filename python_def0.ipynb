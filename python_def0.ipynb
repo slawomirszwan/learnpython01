{
  "nbformat": 4,
  "nbformat_minor": 0,
  "metadata": {
    "colab": {
      "provenance": [],
      "authorship_tag": "ABX9TyNUdTuYkg/czqDF2qjJaZT1",
      "include_colab_link": true
    },
    "kernelspec": {
      "name": "python3",
      "display_name": "Python 3"
    },
    "language_info": {
      "name": "python"
    }
  },
  "cells": [
    {
      "cell_type": "markdown",
      "metadata": {
        "id": "view-in-github",
        "colab_type": "text"
      },
      "source": [
        "<a href=\"https://colab.research.google.com/github/slawomirszwan/learnpython01/blob/master/python_def0.ipynb\" target=\"_parent\"><img src=\"https://colab.research.google.com/assets/colab-badge.svg\" alt=\"Open In Colab\"/></a>"
      ]
    },
    {
      "cell_type": "markdown",
      "source": [
        "nowy notatnik\n",
        "Użycie funcji w python\n"
      ],
      "metadata": {
        "id": "bd0XVGcdq_4v"
      }
    },
    {
      "cell_type": "markdown",
      "source": [
        "Return Value From Function\n",
        "\n",
        "A return statement can also return a value back to the calling function. Let's approach this topic with the help of an example.\n",
        "\n",
        "Here's the add_numbers() function we previously wrote.\n",
        "\n",
        "def add_numbers(n1, n2):\n",
        "\n",
        "    result = n1 + n2\n",
        "\n",
        "    print(\"The sum is\", result)\n",
        "\n",
        "\n",
        "\n",
        "add_numbers(5, 6)\n",
        "\n",
        "This function prints the sum from inside the function and it works just fine.\n",
        "\n",
        "However, it's better to find the sum inside the function and print the result somewhere else (we will discuss why later). We can achieve this by using the return statement.\n",
        "\n",
        "We will modify the above program so that the function returns a value back to the calling function.\n",
        "\n",
        "def add_numbers(n1, n2):\n",
        "\n",
        "    result = n1 + n2\n",
        "\n",
        "    return result\n",
        "\n",
        "\n",
        "\n",
        "total = add_numbers(5, 6)\n",
        "\n",
        "print(total)    # Output: 11\n",
        "\n",
        "Here's how this code works.\n",
        "Returns a value back to the calling function\n",
        "Figure: Return Value From Function\n",
        "\n",
        "In the program,\n",
        "\n",
        "    The add_numbers() function is called with arguments 5 and 6, respectively.\n",
        "    These values are taken by n1 and n2 inside the function, respectively.\n",
        "    Inside the function, result is computed. This value is returned using the return statement, return result.\n",
        "    In this program, 11 is returned to the calling function, which is assigned to the total variable.\n",
        "\n",
        "Let's look at one more example to get more clarity."
      ],
      "metadata": {
        "id": "ky4_zR7AxQR6"
      }
    },
    {
      "cell_type": "markdown",
      "source": [
        "return zwraca vartość do miejsca wywołania funkcji"
      ],
      "metadata": {
        "id": "C7QXbSUox0ww"
      }
    },
    {
      "cell_type": "code",
      "source": [
        "def add_numbers(n1, n2):\n",
        "    result = n1 + n2\n",
        "    return result\n",
        "\n",
        "total = add_numbers(5, 6)\n",
        "print(total)    # Output: 11"
      ],
      "metadata": {
        "colab": {
          "base_uri": "https://localhost:8080/"
        },
        "id": "HHO4bC8AyAJb",
        "outputId": "d16c6fb0-08c4-4674-b40b-84718deadaaf"
      },
      "execution_count": 1,
      "outputs": [
        {
          "output_type": "stream",
          "name": "stdout",
          "text": [
            "11\n"
          ]
        }
      ]
    },
    {
      "cell_type": "markdown",
      "source": [
        "bardzie elastycznym rozwiązaniem będzie podział zadań funkcji na osobne zadania: obliczenie wyniki oraz wyświetlenie go.\n",
        "Funcja będzie mogła być wykorzystana w większej liczbie zastosowań."
      ],
      "metadata": {
        "id": "twV7C6CKyMxU"
      }
    },
    {
      "cell_type": "markdown",
      "source": [
        "Example: Return Value from a Function\n",
        "\n",
        "def add_numbers():\n",
        "\n",
        "    result = 2 + 3\n",
        "\n",
        "    return result\n",
        "\n",
        "\n",
        "\n",
        "total = add_numbers() * 2\n",
        "\n",
        "print(total)\n",
        "\n",
        "Output\n",
        "\n",
        "10\n",
        "\n",
        "Here's how this code works.\n",
        "Calling add_numbers function then multiplying it by 2\n",
        "Figure: Calling a Function\n",
        "\n",
        "In the program,\n",
        "\n",
        "    When add_numbers() function is called, the control of the program jumps to that function.\n",
        "    Inside the function, 2 and 3 are added and assigned to the result variable. This value of result is returned using the return statement, return result.\n",
        "    In this program, 5 is returned to the calling function.\n",
        "    The returned value is multiplied by 2 and assigned to the total variable.\n",
        "    Then, the step after the function call is executed."
      ],
      "metadata": {
        "id": "LJSAGjSRy57a"
      }
    },
    {
      "cell_type": "markdown",
      "source": [
        "Return that doesn't return anything\n",
        "\n",
        "Remember the following program:\n",
        "\n",
        "def greet(name):\n",
        "\n",
        "    print('Hello', name)\n",
        "\n",
        "    return\n",
        "\n",
        "    print('How do you do?')\n",
        "\n",
        "\n",
        "\n",
        "greet('Mia')\n",
        "\n",
        "Here, we have not returned any value from a function. We have just exited the function.Now let's see what the above function returns.\n",
        "\n",
        "def greet(name):\n",
        "\n",
        "    print('Hello', name)\n",
        "\n",
        "    return\n",
        "\n",
        "    print('How do you do?')\n",
        "\n",
        "\n",
        "\n",
        "value = greet('Mia')\n",
        "\n",
        "print('Value from function: ', value)\n",
        "\n",
        "Output\n",
        "\n",
        "Hello Mia\n",
        "Value from function:  None\n",
        "\n",
        "The greet() function doesn't return any value. So we get None as the output, which means null value."
      ],
      "metadata": {
        "id": "LLFU5DrjzHm9"
      }
    },
    {
      "cell_type": "markdown",
      "source": [
        "samo return bez zwracanej wartości powoduje zakończenie wykonywania funkcji"
      ],
      "metadata": {
        "id": "sAvhmcTAzI8E"
      }
    },
    {
      "cell_type": "code",
      "source": [
        "def greet(name):\n",
        "    print('Hello', name)\n",
        "    return\n",
        "    print('How do you do?')\n",
        "\n",
        "value = greet('Mia')\n",
        "print('Value from function: ', value)"
      ],
      "metadata": {
        "colab": {
          "base_uri": "https://localhost:8080/"
        },
        "id": "zbpue0BLzfzX",
        "outputId": "be8d7ec5-498d-40c3-f90c-a0bcd422a3f1"
      },
      "execution_count": 2,
      "outputs": [
        {
          "output_type": "stream",
          "name": "stdout",
          "text": [
            "Hello Mia\n",
            "Value from function:  None\n"
          ]
        }
      ]
    },
    {
      "cell_type": "markdown",
      "source": [
        "funkcja nie zwraca wartości. Otrzymujemy wartość  None oznaczającą null"
      ],
      "metadata": {
        "id": "o_e3odRozif4"
      }
    },
    {
      "cell_type": "markdown",
      "source": [
        "Why Use Arguments and Return Value?\n",
        "\n",
        "Using arguments and return value allows us to make a function an independent piece of code.\n",
        "\n",
        "For example, here's the function we previously wrote to add two numbers.\n",
        "\n",
        "def add_numbers(n1, n2):\n",
        "    result = n1 + n2\n",
        "    return result\n",
        "\n",
        "Anybody can use this function even if we don't know what's inside it. We just need to know two things:\n",
        "\n",
        "    the arguments this function takes\n",
        "    what this function returns\n",
        "\n",
        "Using arguments and return value allows us to make a function an independent piece of code.\n",
        "Figure: Using Arguments and return Value\n",
        "\n",
        "In fact, we have been using quite a few functions from the very beginning of this course without knowing how they work. For example,\n",
        "\n",
        "int()\n",
        "\n",
        "We don't know how this function works internally. However, we can use this function because we know if we pass a single argument to this function, it returns its equivalent integer.\n",
        "\n",
        "int_value = int('55')\n",
        "\n",
        "By the way, these functions such as int(), print(), input(), range(), etc. are called built-in functions.\n",
        "\n",
        "The function definition of these built-in functions is built into Python and is always available to us. We just need to call them.\n",
        "\n",
        "So, whenever you create a function to solve a problem, always ask two questions:\n",
        "\n",
        "    What arguments will the function take?\n",
        "    What value should the function return?\n",
        "\n",
        "main.py\n",
        "1\n",
        "2\n",
        "3\n",
        "4\n",
        "5\n",
        "6\n",
        "7\n",
        "Output\n",
        "\n"
      ],
      "metadata": {
        "id": "R3k93wRRz-Cd"
      }
    },
    {
      "cell_type": "markdown",
      "source": [
        "funkcje wbudowane"
      ],
      "metadata": {
        "id": "B6fL4JGe04Wf"
      }
    },
    {
      "cell_type": "markdown",
      "source": [
        "Quiz:\n",
        "Python Functions\n",
        "\n",
        "What will be the output of the following code?\n",
        "\n",
        "def greet(name):\n",
        "    greeting = 'Hello ' + name\n",
        "    return greeting\n",
        "\n",
        "result = greet('Ana')\n",
        "print(result)\n",
        "result = greet('Jacob')\n",
        "print(result)    \n",
        "\n",
        "A.\n",
        "\n",
        "(Nothing will be printed)\n",
        "B.\n",
        "\n",
        "Ana\n",
        "\n",
        "Jacob\n",
        "C.\n",
        "\n",
        "Hello Ana\n",
        "\n",
        "Hello Jacob\n",
        "D.\n",
        "\n",
        "Hello Ana"
      ],
      "metadata": {
        "id": "JlDlVwvl1Bti"
      }
    },
    {
      "cell_type": "markdown",
      "source": [
        "Odpowiedź C"
      ],
      "metadata": {
        "id": "uuwixUFU1KeF"
      }
    },
    {
      "cell_type": "markdown",
      "source": [
        "Correct Answer !\n",
        "\n",
        "During the first function call, greet('Ana'), the function returns 'Hello Ana'.Similarly, the function returns 'Hello Jacob' in the second function call, greet('Jacob')."
      ],
      "metadata": {
        "id": "8J-KHoaL1SU8"
      }
    },
    {
      "cell_type": "markdown",
      "source": [
        "Challenge:\n",
        "Python Functions\n",
        "Easy\n",
        "Problem Description\n",
        "\n",
        "Create a function to find the product of two numbers.\n",
        "\n",
        "Step 1\n",
        "\n",
        "Create a function:\n",
        "\n",
        "    Create a function named get_product().\n",
        "    This function should accept two arguments: number1 and number2.\n",
        "    Multiply number1 and number2 and return the result.\n",
        "\n",
        "Step 2\n",
        "\n",
        "Outside of the function:\n",
        "\n",
        "    Get two integer inputs from the user and store them in n1 and n2.\n",
        "    Call the get_product() function with arguments n1 and n2 respectively and store the value returned in the total variable.\n",
        "    Print the total.\n",
        "\n",
        "For more hints, see the code outline.\n",
        "Example\n",
        "\n",
        "Test Input\n",
        "5\n",
        "6\n",
        "\n",
        "Expected Output\n",
        "30\n",
        "\n",
        "main.py\n",
        "1\n",
        "2\n",
        "3\n",
        "4\n",
        "5\n",
        "6\n",
        "7\n",
        "8\n",
        "9\n",
        "10\n",
        "11\n",
        "12\n",
        "13\n",
        "14\n",
        "Console\n",
        "\n"
      ],
      "metadata": {
        "id": "YFfm34eg1YJQ"
      }
    },
    {
      "cell_type": "markdown",
      "source": [
        "kod do poprawy\n",
        "# Replace ___ with your code\n",
        "\n",
        "# function definition\n",
        "def get_product(number1, number2):\n",
        "    ___\n",
        "\n",
        "# get integer input from the user\n",
        "n1 = int(input())\n",
        "n2 = int(input())\n",
        "\n",
        "# call the function with n1 and n2 as arguments\n",
        "# store the returned value in the total variable\n",
        "total = ___\n",
        "print(total)"
      ],
      "metadata": {
        "id": "RCR-qG7C1eG5"
      }
    },
    {
      "cell_type": "code",
      "source": [
        "# Replace ___ with your code\n",
        "\n",
        "# function definition\n",
        "def get_product(number1, number2):\n",
        "    return number1 * number2\n",
        "\n",
        "# get integer input from the user\n",
        "n1 = int(input())\n",
        "n2 = int(input())\n",
        "\n",
        "# call the function with n1 and n2 as arguments\n",
        "# store the returned value in the total variable\n",
        "total = get_product(n1,n2)\n",
        "print(total)"
      ],
      "metadata": {
        "colab": {
          "base_uri": "https://localhost:8080/"
        },
        "id": "8O_g3X5m15QO",
        "outputId": "e01fd65a-432a-4711-a4d4-56f9231a54bf"
      },
      "execution_count": 3,
      "outputs": [
        {
          "output_type": "stream",
          "name": "stdout",
          "text": [
            "5\n",
            "6\n",
            "30\n"
          ]
        }
      ]
    },
    {
      "cell_type": "markdown",
      "source": [
        "Return Statement with if…else\n",
        "\n",
        "Now that we know how return statements work, we will see how we can use them with if.. else statements.\n",
        "\n",
        "def checkOddEven(num):\n",
        "\n",
        "\n",
        "\n",
        "    if num % 2 == 0:\n",
        "\n",
        "        return \"even\"\n",
        "\n",
        "    else:\n",
        "\n",
        "        return \"odd\"\n",
        "\n",
        "\n",
        "\n",
        "result = checkOddEven(24)\n",
        "\n",
        "print(result)\n",
        "\n",
        "Let's see how the above code works:\n",
        "Return statement with if…else\n",
        "Figure: Return statement with if…else\n",
        "\n",
        "The checkOddEven() function checks if num is odd or not.\n",
        "\n",
        "If num is even, it will return even,and the control of the function jumps back to the function call. The code after the return statement is ignored.\n",
        "\n",
        "The code after the if block will be executed only if the if condition is not true.\n",
        "\n",
        "So, if we write our code without the else block our code, will run just the same. Let's see an example:\n",
        "\n",
        "def checkOddEven(num):\n",
        "\n",
        "\n",
        "\n",
        "    if(num % 2 == 0):\n",
        "\n",
        "        return \"even\"\n",
        "\n",
        "\n",
        "\n",
        "    return \"odd\"\n",
        "\n",
        "\n",
        "\n",
        "result = checkOddEven(24)\n",
        "\n",
        "print(result)\n",
        "\n",
        "Now, this program works the same as our previous program. There is no difference.\n",
        "Return statement with if…else\n",
        "Figure: Return statement with if…else\n",
        "\n",
        "main.py\n",
        "2\n",
        "Output\n",
        "\n"
      ],
      "metadata": {
        "id": "54GvTzhd2EmH"
      }
    },
    {
      "cell_type": "markdown",
      "source": [
        "funkcja może posiadać kilka return. Kazdy zakończy działania. W zależności od waruku return moze zwracać inne wartości\n",
        "\n",
        "![recursion-2.1.9.png](data:image/png;base64,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)"
      ],
      "metadata": {
        "id": "ndULjpPe2SG-"
      }
    },
    {
      "cell_type": "code",
      "source": [
        "def checkOddEven(num):\n",
        "\n",
        "    if num % 2 == 0:\n",
        "        return \"even\"\n",
        "    else:\n",
        "        return \"odd\"\n",
        "\n",
        "def show_result(num):\n",
        "  result = checkOddEven(num)\n",
        "  print(result)\n",
        "\n",
        "show_result(24)\n",
        "show_result(25)"
      ],
      "metadata": {
        "colab": {
          "base_uri": "https://localhost:8080/"
        },
        "id": "KPEx0tHB3LI6",
        "outputId": "11f4e37a-f2b3-43c1-a03c-a974883f34fa"
      },
      "execution_count": 4,
      "outputs": [
        {
          "output_type": "stream",
          "name": "stdout",
          "text": [
            "even\n",
            "odd\n"
          ]
        }
      ]
    },
    {
      "cell_type": "code",
      "source": [
        "def checkOddEven(num):\n",
        "\n",
        "    if(num % 2 == 0):\n",
        "        return \"even\"\n",
        "\n",
        "    return \"odd\"\n",
        "\n",
        "result = checkOddEven(24)\n",
        "print(result)"
      ],
      "metadata": {
        "colab": {
          "base_uri": "https://localhost:8080/"
        },
        "id": "a-IsEFoS39Yg",
        "outputId": "8bfdf2b0-380f-4b02-fe2b-bd2ce3181479"
      },
      "execution_count": 5,
      "outputs": [
        {
          "output_type": "stream",
          "name": "stdout",
          "text": [
            "even\n"
          ]
        }
      ]
    },
    {
      "cell_type": "markdown",
      "source": [
        "![recursion-2.1.10.png](data:image/png;base64,iVBORw0KGgoAAAANSUhEUgAAAo4AAAE3CAYAAAAkI8DAAAAACXBIWXMAAAsTAAALEwEAmpwYAAAAAXNSR0IArs4c6QAAAARnQU1BAACxjwv8YQUAAFBkSURBVHgB7d1fdCNZfh/2360C2D1W5MEcKS9+SBfTJKctrdzkKI4jOzoNTs8eyy9pdiI5e3RmmujHHO+K7JPIK1s7Q/SMFP2xNyR37OPHBnvmKDpeJU0+JTm7PUR7s14p1i7ZM9rsDMk20XnIi201Wrva7iZQ9/r3u1UFFkAALIIkWCS+nxk0gapC/QPwxb11bxWIAACgySdb/7+RGwEAQBOHAAAAAAAAAAAAAAAAAAAAAAAAAAAAAAAAAAAA4GzAWdUAAO3hrGoAAAAASAQFRwAAAABIBAVHAAAAAAAAAAAAAAAAAAAAAAAAAAAAAAAAAACAswLXcQQAaA9nVQMAAABAIig4AgAAAEAiKDgCAAAAAAAAAAAAAAAAAAAAAAAAAAAAAAAAAACcFbiOIwBAezirGgAAAAASQcERAAAAABJBwREAAAAAAAAAAAAAAAAAAAAAAAAAAAAAAAAAAOCswHUcAQDaw1nVAAAAAJAICo4AAAAAkAgKjgAAAAAAAAAAAAAAAAAA0GeK4FTyvEIue05Pkzbjxpilra0PywSHNjJ2o0jKVLc++2CBAODMSkuGXrz45pRynfH6jlOqVEqVdtOkLZfs+rCtjbtFgoGTITiVskN6jQx5pLjsr9RjHlQmODTem3NkVIXvouAIcIalJUMd15niP9OZTL3MfyvtpklbLtn1CRQJBg4KjqfQyKVCnrT2+G6ltrMzef78eQKAoxNdw/HnRv4aWmXOIGQoQO9wVvUppHzfs3eMKlcqf1j59NPm5g3vUsGTZphu8+g2XsbJPKhHSZ5/0GUk2aaDLm+/eR52fDQNAUCqnHSGJsrIHjLv1ObkIdYZ+g+16VNmdPStVW5WyceH8aGR29LX5NVXb8xoY5sOgg+hMaVazb0t/Wakhq20XiVpCjGmIvOo7TjD8T418uEdGvLvGFJT0TB+gxQ3Nu7elj4t0jyhyCxvbHxwXcZd4kDwtd6W+zIvqbT7vn8ntn4Vfk5Jnt+07saU49Pwcydb+/bE5s3rS1VekfH4+tj5jd2Q8V60HY1tNKq0ubl0M77OvE35cL9UjOPc5OnuyHPDeRZ4nkvhPE18H8X24y1eRlUe7t3PtF6rOddlHZrXO5iH0XoSfVBPFxxxPLuOO0OzWTNHysyGg6r8BlqIMkuMjd2YM7tNvHtywmZIPEeNWeD7Mr/K5sbd4fh6x/KmytOtx5+zufnBrfj2tuak4Rze2vxgMspJyTEOQ4865KSjzK3Pwj6WYU5SPMslZ3d2bE5W5LH03eRm+DuNfdmS9Y2sJVXmGRWQk6cHjjieMsahFfnAhw8ldErG1+scDgUOvKD/Cw+z45QqZLP+nZZZSJ+ecSMh0SI7VF+whUYueHEK2KCSgJNgqe84Mu+qjI9qhxxu+WB5ynbq9iVUJQA5hMPnSyAXJUCaFsTLb6wjr0+bdWxeXzsfsxzNb2TkzTwdgKwzP78cLS8oXMq2NOa50FLjlX3kxfejFKhlRGw/V8NtXJJCbXZIr7aZR9v9DAAn57gzNCw0RvlSlcx69dW3bB7KMsJCY9Uu11aKmwuxjRyVdZT1UGqK9peTzIqWKQXNg+ak5Fi3nNRGze05MhjLcsnZaF9JgZYLjfconpOS9UN6bU9OkplCTp4uKDieMnJWnQo+hLaZhWuVNx89+lCOqM3IIO3rmzLM1kzD2mBLgEitb2Jr8+5EvKZ8yTZPONMU1AAfkHaeGuUsyjhe3owcbePAs48zQzqoTStlO0jXaup2WDj0pNaqjFOR5/P62cBxnGDdIjy/WVlHWY9wPh51VpWjeVt8lJND3S6fXDVOB8EFW3k+12hvxuY5aYcFgcVHCYICamwfTcbWMV5gng63YSnYRqdMwTw8N+s3BXy0n1GLPn3kSCOONp5N/chQObon+eI6zqSdpwmyMlqGPF+WIfOg3UJs0PcyqCxX5GigTBPNYz+SWTbTwpzm4M3TQYQ5GV9elL3hOuYymfp4yzIn4jkp+4pzko+C1ovBdtPKbk6G8zjnF1rngZw8XVBwPCNU2JQrARgNM4oLgMFfrzGMm0XaXfKhTo2CE9emuXmCb8ro+XBYTgpN4VFHW5CMCopSK5b5ceEwqEXKeoTPbzTXtBQMtdZyBiNFTb/d8PzXo/V1yKyHG3ag/jCatN0PmUymEptnNVhdUw2G1XOxZTb2kZ3OBMuV0OTgt9MZadppbGfYjN68nZVOl9YAgPQ5qgzlfHwY5UvYd1JukqFetIz486Nl2OfG+l5Gw2Lz6KaxTkqavntglHkcW17TPMOzzlutx3MyPFopOckHENQFue8omtnNyeDIqtHKa7fecHqg4HhWhLXWeM1YRUfHEgRJJgomng/XtFV0M1z7lJsEQ1iIKvNUOW6GsIVK46iF4Gkmen4pei7XJF+R5/JE1+kY8dHCoNCn9RU6AlwAHI+aU+xRhPBLo17PrPPOrMh96Y8TbSdv34Rsp1yHjQDgdDqiDOVK5ZWm/AiPIIYFpMqeZRi6tjsXN2yyNY0je7F5HIot0FGscHp4ctKLF9wp5BQFLUGck5WooBnPSTkKKznp14IDEHB6oeB4dtimF+U4q2Njb92zHaKjJo8ETQC2lhk2y8hzpV+j/LWdqH3daILlAmLUyduTeT/67O6KPAiXYfsEyfIvjr65IP1Z7POVTtJH58BsM4hQWrb3jjq6a4rlZN1lnn7QGd4L+3FWeaFB873j3JFtlBsvfy3sRA4Ap9ehM1QF/QHj+bEm40w4bxPLj8YywqOQYnOztB7kMI3LyX/xefQqOqIpy5T5cUbP09GQ7VyVedprYkoLFG+/FJC5wFiKLzP2fXCP4NRDwfGM2Nz8oMShJGfR2U7KUedq6feSdB61mitHBpfkufYsOz7yJv0KH23enY2msQEa1sxbC2rSN0aWKct3lCN9eXLc/HHruH5dIOvammuFgs7qhXhfoUOSPo3rdp5hc3ytpuwZiuH2276Sso1yCzqxB2dVE5wJclZ1dGY1DIajyNCdHVeywZ4IEuYHxTNwa+uDBXvyoC1k2WV48WZp4bruzbDvdTSPFTqEsItRhXZz8ihPRHkQz8n6jtvISe3roKWJxwc5KSci7b2CBpw+6Px9BnneFzyi89UkfQjbP1+aWZ7nep1H9Hy5Phr1wWG3t/N8g+amTvMNlivj+7Od0D+4HM9gO+4MTZKR++XPwdfpOHOy87YgJwEA4MzDEUcAgPbQVA0AAAAAAAAAAAAAAAAAAAAAAAAAAAAAAAAAAHBW4KxqAID2cFY1AAAAACSCgiMAAAAAJIKCIwAAAAAAAAAAAAAAAAAAAAAAAAAAAAAAAAAAwFmB6zgCALSHs6oBAAAAIBEUHAEAAAAgERQcAQAAAAAAAAAAAAAAAAAAAAAAAAAAAAAAAAAAzgpcxxEAoD2cVQ0AAAAAiaDgCAAAAACJoOAIAAAAAAAAAAAAAAAAAAAAAAAAAAAAAAAAAABwVuA6jgAA7eGsaoBBtLqdIwAAgAMa2ILjT/1TWsj9E8rTAeXmyZPn/vRX6Z7c/tPfp3E6Kl/ZWaDiszwdp+LOOM3t3Ek2rfH4lqyAsd+6/2YtT28/nyU4ef/X9hT5zhoBHAAyM8m0yMwzaXXbo2/8f6sEVoYGlOPQNTK0TgeU0SQBklNEi/K4lqUqHRXHXCPfPfA6HUhN5cg1Bb53s+M0X3kxRY66Q7oWBOA7O+vk+Nep+FKl43P2W3en7hG51/jeQjDPFyUiNb13uuwwFVWF+uzSpYLna71Kxtze3PygRH128eKbU47rzNd2nMlKpVSh4/CN7Ty/BnNKmbxBIywcEDITmRk3EJkpLTM6M0N1XSRCaEYGtuDYK37rjCtD1//d/0RlOouKzzzSEoC0RJlskeg5f3DcexxwEv6TdKT0Codnc426OFShPvO8Qk4CkF/bpa0TCEDx6NGHy6Ojb+WyQ3qV12eCg/Dovlw5/Jy6M6eJZknZ8DOk+D/o6OdG/hr2zxFBZh4lZGbkWDNTfPPxjPL5+LHxc6SUjU4UHQMDU3D8aW5iMQ5N8yv/1He5BtfyDuDmlJxjaJrfHOPRNNVbVInGZTVNGU2ePJT5/HTYZPPvf52KdBDFH41TfahALr1MPj3lavwavZtZaprmnZ0Z/loft+Mz/kJTrVWaQXRtuuP41mmEccr0F+4KLaj2H6y3nxVIZY1dD19N8fOq9FtDUThVuanmJofimm1WKb5UDpbBzSjGTDfWQbdup6xDnbeDm25k+aa2d7nKedIx9N5+USRXl5q3nQPadwr03rni7rBwPaLtjO9L2S6Xv6x8fq0c90qn/ZXNmjk+Alfd2rxbbF2NkbEbxfqOUxoa0tPGGE+TeerXMgtRDXdk5E05epeTEIueIzVh+SvD5D5nTtUomso4zvaLF86Sm60XZdjWxodNy5NaOwfhdDbrz1OHoxs8/o7WZiW+vK7uP54jbWaNMrmgJKR4dY3EIEIQukJmIjMHMjOlZUZxywxJy4yRMiOZMDUhkI6C48Z3t/mLzDOxAyH8pgnuNUr5wb/KvoryvwnuK6qYkdeGu83+p75KBf5zR2m6rV16kvHpnlbU1A+Fh0n/hSrPcok/z3luXtnmoJvkkCtH0yiHl0V2vR7LfTooac7Q6h4HwzKHxkNu2siR8ZvXXdEc38qk/QfkOte45rpGs2a4EWC6xk0DHEzGX+IAzfP4bQ6Hyd1wktrvDk/DTRfGPLDDHH+KFlqCNvJObY73ZoGcWlgz5rAg/2HTNMWhdQ7mKgekhGo52A5zT5ooeBuekHb29v3QO2vBOvB6KjPJH8QrvN4VSkxxaNkuuMXGoLpT5Bf9QtO6a9uEFDTlkF/kYR69m70dbss07+cZcrh5TfZnsL+a9qfUnEnpAr/fCm3Xgmgum9XXfEMPeG34pqYdruHyqOB143k6xq5TI5S4+WSKt13eKstynwPoZc6dFW1oPntOX+cpeN9R8eKrN9YefXZ3Jb48DqjbynGkBn2rtQYdrSvv86fx5bVlw0/d4WKiF8yWog9U+LHiAd+smD1bGysdND9KrvV58bg1HaaN/7Wf6ate18/0oFMb39vmPzYz9+5FO0X4yDQexXK0Qn/pTNDERMcjNMhMZObAZab0Y/Q5M5XKG63JfmSiAokKP1v3K9vBZ8m0zTUVvl6Nx45DMi8VbDe/xrpp+qb9Fk4b7sPYJ7ndpzu+XEcWvE5XL9yiPklHwdFIoVEE4SYFQg6slhcnLFA29rgTfhvuj19MqY0uRDVdDreHvIjV6NkSknw/9x/+R5oIB5V+6p9yIDocSPyh51q0vBlL9rlfJWmSKP+7X++h2cWheRsc8drfnpXl+d4eumnvFzksTW2b/qrPwUQrtjbI60nvDTXWMwgn166nHSJB4SquRQ7d3Hd9GgHoT+7WKLnWq5zK3okN7wMVfHEoJfuzRO+G21F8tmLDOCIhKdO6/s1wviV6e2dvUBqu1caHOxxMt7PXgwfcJKMc2a7i7nji/eBEy+SwN0Ve9+HGuv/ms4e87fc45BYbXxryhbG7L2R/PaGfrE1R+HpmzvMRBs2135YwaqbWH20u2aMJHETL3DTyZHS0ML65WercPym+mcapbm4ulUbHbuT5vZjb2Li7yPcn+L68jk3L3dr6sMzjqm7Wb6xjRELx0qXCcO15gj5iDh/pCStdYQXLfnjkfvxz0xxGpinQGsOj5wRV76bnxqeLPy++nG6fUtPmr1QiCbozUmiMp6MTDo6/Kqoxdm8BsjtkZgfIzLObmXWSI8fjQdbZT1B07Krxb/C5a841FfvLw7zY/eaCYliAbC4E7n5e2xUaiVo/ybGs3F2IfK7zfHewCo7KhGF2aSL2QgWSFQ33W4B9ozd2qtSIOfiqsYXk5RXhcCzGnnM5ehMciaAfjMfNAN1rPVrv1lyL/EF+5wXXlPUrwTq54/avNEk01tNc4H/GG48ddS2+rR1U2gdgQsH+3K2Ny/PfeVFpvL2Vbbpab56v1OTVleYZ6cc8fHc+vrP7mrjnSnykYK7R1CNnGEpAS/ORqDvj9rtSmmHefhEu14Z0jnJcg6aoE394BGF3PapNx8CMz/uue8dy7ZjGayZBxCHFwVbPUUJckX7cmBclOLnAmHUueHntRn36acJO4FeHSyQhen9bwntGAi+YdewT9YanknzWDjp8v3Fd3a+YpBXC4xRdwzG1fR1NuFqXXtuTmY1JEg5rC5nZCpnZeHhGM/Pzwwv0f2wv8/utqJzgJKRY5dk2VtMOH3mNcylnwiPx7bK0XaW6efjeT2SSz62JDeR1W+13Zqai4GhM/7PZUVTVpvlx067X9EC11GwOxw0/NNl9aj5Ol/FymYeWPjfSfEMm3kyS5MPp8U6X4M/ZMKFYc4h8YI15Ze9TJGB0tbEM6WvTiQqOdrWse3P42Omcba7ZltrOw34B7CxR3ZVaZNk2Nyi13KgVK83r4zbvCyPLoNux9TwSytdP6bS6OrxgJAyzJE1W07YarWw3b3XyxbMO0llUSxWjkZmxNUFmCmTm4f294Qr/W+DMLNKQWg0q3PaFUbHxqWK+WaGwB1/fpKSpmo6Vkc7KTnNN2Jimx1Xp6HvgTtsHkq0QSWfn5x5RD319hPSf4Fp912YbMhVKUut/b2jSNuM47h2uoe7WdLnmFjZ37LI1fw4+1yk3lmHqzTWvqEmmMY+WmrJyvAO/zr7PtT9XmlG4eaV2jdPoemOc5n3BtT364dBCxw7sCSjN7w2V6Iuj8zxU85cG10xfVtT7OhnZl8ocXZCHYUgShll1h9cvj7LZKWfUniatI509MnMvZGawWoOTmcPcYlPg9ZqTI+nH+Xk7FNX/9UrFBcClqZqOswZtaIVrxzNypp88/On/hZo+5L62/SLyP/1Vmo2G5X6HPJ5+nI6K1AaNdOB2522o2GFcG47uJyFnzEnAxS8Kay84+6Pd9TRm0fankYvWNqaRJos23nupZKfX7mpjPaS5Q7y9M99YR9+RfkbLtsO3XQY3uShnuvEcOaMxXmvXZt2u5zv1a8E8ZDpzbc/ytWy/vWDu7i3ut6XzOofBf1Irkj1TMezM3hjHTRg/WWvdn3k6gFrNXZZ1lzP9qBccVvyhveJ5BU8ejlwqcKFMTVGP5NpoXHscV9ottxs/NvbWvbGxG9PUCwnDN7xJ3qc3+SNXITi9pHsPMnN/yMxy8zhk5oFcHS4Zx0zwfr9NKdbvE75TUXC0AXiMzdW+S0VuYsm5mrZ/6qv0hHzbQ3w9Gl/9h7TOtefr/Gae4SA0cnOHaM31j7C/jnClEzM3kUin6Hd2DOnak7CTdjJSw/W5BikhJ88P5rFG9azXmOa98wtBsNHq7jTmXsd5Sk1cmwf2umN2GRzW2tzkD/dUYx1tp2292wfI5RqrUpVgO15s8/QT/PotN8ZLQEmHdtLLwXh31a5TK8VhoWvbTbfWIJTAdaSPnt77fMfWpr2W/XmggLBn4RlTVkr1FCz1F26Ja7vl7JDeHh27sc2vzxy/1xapR76uF/nPertO5HKGIC9ryjeNExJ6I/0fX8dZy91I38ZUX8tRq6DCfUyQmcjMTgYuMyeHq/T54SIXIFObmf3uFp6KYFQffxJs99/4uWNdH6kR03mqhmf8dZ6GVf/RMR6RsT9J9Zxv56s2dA4zj26dtBu1ygN25G56fpd1jH5aq+v4fdbxKBxyf4a/gLBmtL4uZ+hRD+xlH3gdKpU/rFCPwvXYru04w51+CUGmef6cqkd+sdu0uL8dRODVYbSmd/Pwk2A/XUZmHngeyExk5lnyUSU40fuq17fMTEc42xDkVbn8OXxZwIkYHf3VcVKZe8f681VdnPTPd6XGR9v2rB0zSAXHtbWgMNHluop7n/NnQcFxApkJJwOZmRIfhZXt1/uXmaloqrYdvVN7iicMgs3NP1h3HWcym905VKfvXvk+5cjUrw90AIbMoBSF1tY8+uSTVXLdJ+RmntDHn/xbOywRNUA7CtIImZke/f4F2aNdWi81Z/u87weHWl/7WSQhwCCTI478x7x+skccj/06jpKVKrumFF0whh4HA42nlNo2uvbafhmqvvv/Bt17fv5nkJkAg+zUHnEMa84qk/lzuR2s5hyeVY3aMwBQSi95ceSGrnDmXTBardD454btzbhlfjxMFDtxowMjPzKhkZkA0H+Hv45jUHNeJd94RoVXkzdmWDnZVbO2NpHk6KPRBAAwQHYe8D//OdHuSSe2ww7/Z3y9f9MfKtoAQHSs13Pt5PAFR9/Nk6s8DrIVbmqessPW/mzVGLmYqa05r+87D4QgAIiTSMGTEFSodyvV/+YHc+TTJOdmhf7mz5X3fT4yEwCIYr9Z3T+HLzi6fplLj8Mc+LEji64hze0o2iTrNCtNLshBABApyIK+XcORW2xU/aV7xlDedlo0er/fTA6gmRoAIn2Og8MXHNvUnJUvIZiw5hySfo44sRpgsAX5ZwYjC77zA49eqFVS6gI/2ubbdfpbP/MwyVORlwAQMPas6tP5W9XS15Frzrz2ebJbYpLVnIWEIFIQYOANSJEx5K5yq4zH8bdE5388e5CrURg0VQMARb17+pubR1NwtDVnh2vOdIE3YtvsqP+W/utL+/dtjGg1MF2bAADo25vXpNAoF7ZQhv4b8+OfuKK+vRFmoJqlvzO60vX59koUBAAD7iTqkEd0xNH+rqbHt5I5/+wW/a0DXscRzS4AEEnBwbRjv46jpgmlHMO41VnleKNfMdLsouzi9u0bro6zlebBZpFc5wLVnNs0OVwhAEi5/obm4QuOtuYsv1VqV3yKfvxX8sQ150CCmjNF/XVQdAQYeGpATqz+xdEib2ORemUvYXZMXxZaLu+rCuSYPD3YLtGV4dsEAKl0Ek3Vh78AONecg2YTLv5prjlrx+Om5+Dmq1eSzCI4mxB9dgAALbCJ6GNuqrYXGCdPaVOk1X+7Tavb0wQAqaTUaTviyDVnCmvOPefYcffX+VeP7pB/NM0u77/xLE/Gvfyl+0OLnab52uvPCo5yrnAtwONC8cqvfXR+gU4R71LBq3x6+B+t97xCjs5zs9tzqlYqpYN1X+gz2ebTsJ4DAXXIfZnjzEw+4qicoBXItp7zx4P/lOj+9hQfarh10BxFZh5gPshM6IExp/HkmMPSdLynk2tudlHc7LL6aJEmLx4qkIxW44q01L7bhuD7V/9yirfmDgfgLL+YD5Ry9nyoLvEHzvf1Pc7+la2Nu0VKkdHRt1bllytGR29QreZc51Co8LACH5y+srm5dDPJPCT8hob0jCE9y69tlYbIGxu7UdzYuJu6Jq/R0cI4KX2PtM7xeubarecID1OGrvH+mERIHi+VknM++nYdx15FLTT3K027q7WZv12zfzSsY5cAE/6alwn6DZjGUJriz/MUL7PEzdiJK+LIzP0hM6FXJ5GXR/Nb1Yd1zJfjCX4L2/bDnD9ss4vUhL/00fmJTuO1ccb5T/lL988v/tpHL5W+dP/ccus0aQ3AkUuFvLwMW5t3J4xjltwsh5hQaq5WU4kD7DzXmDWZ8dqOM7G5cXeYTH1C+nONjLyZp7ThAOR1W+L1fMV1nGG+P9u6nvI68ffog2zWv0fQB2is3p+q2IKdbbLmardcmUJyNHwcDbPjo0Kgab5vwucrqbiHz48q8eFfQ7vzUBT9PrYxT7lok7gwgMzcHzITeqYM9fv04nQccTzm/o1BoVRF1WyPgmaXPBebE9ea/3n+R+N1x7U/qegqd/uL94eW4uPn8385lXHdC3z3Ci/PW3z9WVGG87Dlf/CNocaliWxNVFGuXQCOvPrWbP2FW8qe49q5NuMcJE/9WmZBarB2PH84Hce5wLW7xrLjw+S+UrqqVOaa5oTf2viwyLXBOd/oV3g+xf1qfsr3vejtx18mVf7ieNmur1HlaB2S+DRosrkePd7c/IP10bEbFaOURykioc+1Zq++49ij0LLeF0dvLDnKlYpFOT6tX3OKzpBee5Vfo88++2DPUWs5IqK1P2+Mf1u2l6AnKDImdPXCcPxhu/3WaV+a/R5/43GRE2COc0zZvlPG2EsM852y/WWbzw8nen8jM5GZyMz+6PcpIukpOMqn76PKqjyUGrCRY6FSww2Pie7XBBPtNxM9R/NYJxxqgn84BO3lL8JnF2wT9v3HC+Toxf0KkDvkVl2iCs9jmqvhV3hQUwhSxqkabXI8vqocVeXl2/nt1Pzm4OGaqOpwNiXX+GeyWQlAxR8i88BV6pp88LgZY9gGmOPktTHNy44P4/s8YJq3cEEZZ5abTjgMacXhJhN1zi/wNF2b6Ws1dzk7pOekKUIp/xqvwzLvtWJtR03S4Xm89ytJJx4ZnZ7nl2tqzwhDK5ubd2clwJTWd9o919bYE5DQ59ejEv9ycMis89tjrnVamYa/pBa1UTJuz36s1+uecpwp7WRKlOT32aEDg2u6njTNhxcdx74GwSWCiI9u6ptcYCwfZDbIzENDZkIiUsE7nb8ccxiGg4Mox4W+vH0oYaWDrw+lox8ha+2bE9yLhjXttKjPpG8aO9Q+5newUk6wCNnXwYhZU6fHtE9A3Cq/VOE/Ja4Ve45SV/aM/+ZLZflrx/O2SJNL6zS2bwhpb2fHedB5SWo96hfD4SehtO2es6G772WN7LOJHm58dneRa4HDvMWXtzY+KI6M3eD96Fze77nyQb948c1bjmNm+KvjobKFbOdANed2pAbPu7qytfVhOelz6raZ50WbPlHnbWBtfVoqe94XDhXOtjZ/gGDOKHeZj0TM8+vite4T2bbR0V+deLSBmvOhKErFr0gd+3UcUy58CfizxpXqH3I2Xh8+cD81ZGbvkJlwEIN5ckxNT5iMbULeFe6I+PWJTMtf6nL1osa0dj7OajBIDjnawSo4Gcc2vdw+aE26V1rXPcd1qFuoGEc3fqtWQombK6QmnuiyRvb5Rj2Rv7yBVa5BV+iAHj36UPoX2T5GvOxtMrXrF0fftIXqeBNQUhyqU9IHRvruHOR5YY222n2aP6zQISl78eVkpFmG9wnxl5J8oVRax6O55QjgUGM6KFWiH/q3eikwHiVkZnLIzMHV71aadBQc/55tJq7QcfnGY2o59bBiemh6OSzHsR+4rh9so+lEgzoS9dPhNqtZTuaqNJlks740cySusYZn393Rvr5Zqdyt0AFw2JT4z/SeEUaV5OhC2Oyy2u653OyS6CiRbQZqCUHjUI6PRKfiNRhIA3l8L2V+LEcY/7NUfAaQmQdYPjJzMJ1A3550FBz7Qw4yVjllem56OTyXa1c6J5de6PUSBa21PcXNOOY4vm3lrMAdNZkdclb94JIKUnOcT7ru9vIZElLG3Apr5AfCQVbgP4VO46XZhQ5dzLCvhxffJg7GcX6jPG43tb3Gmpxe6uunBHCC1Nb3tuVnXtt9X6imzjzBEPvIdL/cUeN55s/5A/jd2PCg56mKz1Opihl5LVG/uMNBZiaFzBxc/T45Jh2X4+kH2/Sih/koY/Gkml9qNXtUtZrJ1MepF1qXST6LXsGThxI0cq0wOmKtZwXy+nrBshrNIV3FArBUc92yXCjW3myIpMfmZmmd17HMRwXm5HFsf7a9hARPN0Ud+h3Jc8fG3ro3Ovqrvb22YEn+9flHENqSvo1p7t/IR9m8pqtFxG7BSS32YjrBYxMOVOFlz1qet2e6NuPsmdXhOBNd57EPkJnITEifATniqCfpjcM1S79/9fmqkbPcKOiLyY+f8OOq75vJsBP4vuxZZmM3FrkGLB+6Mh2QfPjk0gfS+Vsu1cBBI5m+xKOONgjDmrO9b8xt5Th3fF9X+bvodpKn+76fJ+lErdRsVofXNZNZZU2ZDtBs0w+u696UwOb9WeC/Od6ftzdjl+5opmZsU1QbOEPwaERHxqC74Ogfp9Hoax0Lt0l3o+nynMO8FMhMZCYysx8QmGee1CClA7Vc24p6JPPwvC941CfB8tJV8z1qsj+7beOrr96YkdctOnLRDmrOR+BfbRl7g67UxvcMffa9gdhPyMx0QmamxAlkZmqbYs6y6OezuM51E2eVpV90/bPaTtBvieD4cADafni/OIJs6kJxodF+U7z62kDsJ2Tm6YLM7KMTyMzB6eOYInKJAtd1rhvjnOka6ZlRr5NcGgMB2AcqHQ0vch3H6FqO6TRY5Wpk5imDzOyflGQmAMCJUN/iJpdvnXxTdeoLjp+uGXsDgIF2EpmJI44AkBooCSWHtnwAOInMRMERAFLD/kAoSkT7M+n4aUYAOFkncfmyQboAOACknFzI9gR+CGGP9P9GNUrXABBS/U1MHHEEgNRQSqG5OonGhbwBYJCZEwgCFBwBIDWMQYkoCRxvBIBIv/MABUcAgNPGRL8tDQCDrt9VbRQcASA9UlIWSvvleEz4m9EAAP3OTRQcASA1VOMf6EYRdhMA0IkEAc6qBoDUwEG0ZHC0EQBOCo44AkCq4EhaMujjCAAn0fqAI44AkCImFUcdU38dR4PLFgFAkJiqz1cBxxHHU2j+l55577/xLE+nwOjoW4WR0bdWKeVGRm+snYb1HAg4kAZHDJl59JCZ6XAS175FwfEUcl6YWa0pT6eBUnN8e0Apx5+9cUepEsHJQqExGfwy44EgM48eMjMdzAn8GgCaqvvo/at/OUXKqdYzVMnU1Kwi9TK/3Ctfun9uOZpGasbROP5olmt+duVWWVVj467xXblVFl9/VpThjkPlL33zpbLcl2EckKVb5Zcq9jn5JznHOc+heX4hms/XXv/xrK9fKhH9OJ91M9f4jfeUlFmWecgy3B015Q+Z5fh6fPH+0BId0MilQp609vhW7jTe+PUph5fBtabyxsbdxjJGxm4U6ztOqVIpVaJhly4VvLrWha2Nu8X4PJTvT8v91nlIzb1Wc8vZrJ/nh1c0b6dfyyzE5xlbT9rZcVIf1gARY85+0RGZuXc8MhPigitR9PeoYzoKjlvf3eat9uwh1zanC0a/Xbvfb9jGx7dO220e8fg1Xeal4tOEA5rGKVUxI68NUwdaO1OOo17O1CjHDx/6Rj/mABvn+zYEw5Bb40Ba1Nqs8/6YymR2ZufzZtIGWJ083j9Pw/4MVf63Infqdb8aLYNrgHMOmTKF44jO52SYpucleU6wQc5Mxn1xhcjN8To8cBR5jnKDcXV5HWgus6OmeaNKUpvhZRb/2dUX+S/eP3eTDkD5sjxzs17PVFrHXbz45pTS+g6vyyIvZ5tf9uLY2FtTGxsfXLfPNeZKZkjL3WL0HF/Xi2TUhejx2NiNOcOhyBu9II+DedzwOAhvh5NMZ7N6hvfKOu993k4n7wzpNc8rDHMQNvYZfwgqNV9fr1TuVgiAgus4yt/09nVUqfhN7+OGzNyFzIR2gvLIIB5x5EJjcLRVOnnuFsyi+9E+MSqIS9sZlPbuq6aCoQqDNZyoMWms9BdflgkvIMcfvuYDv7F0NsFsG+R3xaNl2eUke/Hydd9MRLXbOA7AOzyr0he/+VJRHnPNdznjvLTtOs+n+GHpVlhDfv/q82ltzMOZj6QG3Bve0iqH2vUOo3NKOQtRjflrrz97yls2z3cPFIKbmyUOH1pvN85xnXnelbObYW2Xg2kpO6SfjIy8md/a+rBsHFrh/TtHsRDkZ13hwLaPpSbta12s7TjDUW2Yn/uQDyXc43ktRiHHr2Z1a/NutN6l0bEbT9ysb/dnNNdPP7XPrxCcuEEoDB2Fdvl3hiEzCZkJHaj+52ZaCo7Bn7GfV20Gt5u0405KOr7TtCbhczpNm8B6uwAM5bkE22hOiS3HoyOmudbcbbw090T3fYebiYyt8R+JMMA839AEN6+ER2htTZk3X3nyt/7CLXEozkWhGDaN5LhpxK5XrVYf5yAlrmEXeB7Bc3kd+Q2Uy2bt/grCd29foSpBag1A6+uRGLDrOCIzkZnQTZ/zICUnxwzO7yAoDrmDTK/JLEp/HOqzqG/PcfD99oHK7/3bDvk2vKT2qw0tGeVITZeUrhc4IZejWjE3X8k8mtaRjzxUZR61GoLuNEPZcX+2PWVAStnITGQmdNfvKEjPEUd8W8h+qGrSDw7TnLJH1s1JJ+Y04ZCqZIfkC0Evb21+WO40nYxXQTNKkb8OrhnjN5qJjDEVpVSuvuMsxPvewGkXdUQ5WWm/jiN+OSaEzGyCzBw8tsvdIB5xtAmNICTtmEX+YM9Jh295PJ83ufn8s7z8bZ5SVV3lXGg7Ew5SlbFnEdrnZ7Seo5SR0FJklpVy5jngPBnGf3O2aSVGmlv4T9XN1ovyN3y8O87QejbrN89jpHkecNoEvZhhH7gcj4XMRGYOOmOzoL+ZmY6maoUIFDPSwVuZpUxNbb9/9bnJuC+euK660zqd49dua2PyPM2Tr119vv21158VonF8vOYWV5anZJzrvljjXftAgpFSZmfHvcnv9ofZIb09OnbDSCdvbo/ZE9j8cVhylDNjlFlsHee6znXpyxSfh1LBZSbgtDLo55iIQmWbkJnITAhOF+73MtPgs7Vgu1+dwFdG6F/kn3nP6Xy1W78ZmUb+/g9tOo4neX4aSI2X6Dnfzld7bT45inlASvzxZ8ZereAXXkUWdLP2/eDb4rWfxX4KITP7Ow9IB8WZKX/NfzVgmak+5YJjVHgEgIFlQzAMwpMk13GMruWYSt/jgqPcAGCwnUBmpqKpunFBbQAYaIgBAIB0S8/JMQAAg2htLWdvB9H0KwUAMMj6XYZKxxFHBCAAUHSe3IAEwtqaRx9/skpu5onKZP6cPv542w5LQA3QtW8BoIsTiIFUXMex029UA8BgsVdxTMEJw8d+HUcpIKrsqjJ0gbe1YoLLBtphPG6CJia6nrBgcO1bABCm/9fmSskRR0MKl+QBAKJUXAD8+A1dJqM8LjAu0eXPDdM434xa5433iLJeolmgrg0w8E6iop2OX46RL4p0XagfAE7ISVyXrP925PeA5TeHgyOL0sdRqxxXoI1RCS4HYy92iZIjwKA7iRRIR1M18g8AQgMRB0FTdFBA/NMfrCqfxnnDc8ahIr321yv7PT0oNqKVBgD6LyWX40EAAkB69PU6jnXzkJus140cRdRqOskZ1ujiCAAnJSVN1TjkCABkS0MD0Qj7nR94JCfDnH++ThM/M2uH/cmn89wEPUsvXirwo4Wuz0dkAgCdTB/HdPxWtfzEGH6gFgBoQMpExp0hclfp2U/s/tawr16xfb2Nenn/GeByPABwMnmZjoIjAhAArAN2XPnk+3Pqk08MffyxoU8+maPTQvmL3Cxd5c2dVf96Y42+zTejppWWSNZL+z7d4Pq3ACAOFgSO5OTHYWY+fFikHqTj5BhCywsARBKmwZ/92WWq66KJjr4dYbPFsV/H8Rf+eoX+9fYUGb9kfDMeDFRV46iiHbcP5CUA7EqYCGtr49qnorRvy39G95Yk6ejjiBQEAKEOcCTtc597aJ/x3U+K5DjvkD5lQfK3h4NL8nxn27OPf2G4kvSpKtxRiE4ASGxiYp0kPta+P2eMKfYaIKkoOAZnCCqEIAAcvOeKbd6VLuIp6XlzUAcoMEaCH4tAFx+AgddLDGh5mnO6jzgGTdUoNgJAj6SV2gzWFWGRmADQE324y2en5Igjas4A0Gt/Z8cobX/v/siCJLqG47H3deyVQd9wAOhVxgTNFr2VH9HHEQBSo6coqEur7UE6R54FqGwDQI/qWinHMcbXPQXJKe0UBABnkerp8oRSe5YnDVac4XI8ANBbHZILjVx2DPqHH1xK+jiilyMARClwwCTk2rNx7AkygxMhCEsAsEyPJxSK3lou0tHHEVVnAKBeT5TjI45aR08/Eqnt2xhBZAJAw0HjygmaLMwpPqsa/XUAoGe/ePE2/3ubBgoyEwB6rGz/ncNlZkoKjgAA4YE0lIn2hyOOAECD/FvVhhCEAIBCY0LYTQAgVOOf/sFZ1QCQKmkoFMl1HKNrOaaRwaFZAKDgtw/6LRUFR8QfAAhc1DophR0FACciFQVHg6ZqAKCgkzcqkgAA6ZWSpmoVXssRAAYZruiaECrbABBSfQ4DnFUNAKkh/XVU32Nwr9RfxxEVbQCw+l/VTs3JMag8AwCOOCaEXQQAFP1Ma38rkik5OQYdvQGAevnBwcGFzAQAq79hkJKTY/B1AQABlIf2pwiJCQCDfAFwOeaIFASAlORA2q/jaDuDGoQmwKBTA3sdR/mtbU0AADiSlgBOqgYAYdtr8csxADDIcCAtAdOHC5itbk8TAKSeGcg+jjjGAAAWjqUlY8KfHTxWJS48rvLNIwBIqf7nZTqOOBp8UQBAIA3VSLmOY6qv5diHPo4qKMPn+bbNhcc7KEACgEjNyTFonwIAgWpkAur4C9jx14ELkQW+raL5GiBlTqDohF+Ogb4YGXkzT64a3/rsg4VO04yOvnWnVnNvVyqlCsFgUtFFwKEbJScTyo66v1UIqv8ukfaDkQ7fp/A+Rffd8HH8PgXPcdy9w/mxPWmR/7Wvh7GdKj1+dMd8tF0k5RRp8sISwbFBZkJifS48Hm3BcW0tZ/9OTFTpgAbly2I+/ySXcf9K/kv3zy1Tyo1cKuSV1nc2N+4O0yEppTyj6RrfXegyUSGTqcuXUSUa5HmFXHZIP9GGFh9t3p0lOPNQaExChT18MndIB2dVmijO7RUqMrEpM+E+NbH7kUxYCA2mt9fUtTNzw77npnFsk0uOxhYgSXlkdInubw/T1eEiHTNkJjITuuv3z7QeTcFxbc1TbuYOr3jePv744wr5/iQXICtJnh7UbAdDxh3K8/ZKGKQ+BPloxAy/IR/SCcqcp3H7xWh0+vcXHFpaKpDRNRzT2s/RkLnJe+tK+CDcZ3Loce91zXZ/XyH25WKHBSP2dDE3FD2hsPscJZdM47KMfVzlxSzS54+/0CiQmQeDzBxE/U3NwxccudBIKrvK4ePxW7VCRpo8lEdO9iMe91qSo49RrqW58PjP8z8a127Wq/tD5YyzM8P56flGP5756KViNM183uSicRzsT+tZs3Dr/3ypEo0j5/kUb+m0cSi3+Poz+zxHOetRTfprr/941nUz5X/wjaH1aJ6tw772+rOC67rrOzU/l3Ud29+I99tKNA+Zr9bnFzqtR1JSa1Wkpzh/brcbLzVr49enHFIv85dJeWPj7lLr84eG9AwfofBkvGlzAhQ3sxT4zxXN6+jXMgvtvvT4/TQu76utrQ/LBACBq8MlkrOej9M3K4XWQfw5XqQfUpGuD++b68jMZshMOB6m71emOfzJMb47zq0ZHmlVoss/O0zjf2OYH6/zYz5Un/WSzUSl/pI8viPbaeYyzotVrsq9IgHoKudCNH7+l555GffFmgSPNvoBv5i5TE2tyvBgiue5qAeR0fopb21FbnVf7wawcmZ8Xz70MS3DOFCmteb1cNWcrIOEXHxyR6k5WQ9yNFfSzTpnzzVejzvUC2Nu1necUuvgixffnOLmmFWlnCovcJ2bRGZHR2+sxafhppI1bUye7z7g+JvkFZ+Ljx8buzHHw+aNUo8dx9nOZv326+i762Sc6wQDwcT+hVQpcx5M0hvDs0kKjQKZuQuZCcen/2Wnwx9xdP0yv1OlP0fwYZZ+jloFfR2dWqKAOTVN1YrG674ZvlXeWxPN1KjI2/CQa7E3w0Gl968+X3VqSvqYzIbPKS1OPstzeJovfnSuRD3imuj4r310frjLBEtfuh/U6ufzOw8yrl6bzz/z2q13J5VKSV67UrtxjutweJlbUadtrikvcehtj7z61qwMk5Dkwbl6zb0ZdtoucU15tWkVuRmM3+6zm2Gte2TkzYcc8PnWZW1tlcoEg0Oh0Jge9gupQr6+RX93uLdmT2SmhcyEY6MafVH65vAFx6ApOigg/ukPVqluxvnNnDNG36afT9bH8RSpdgwSpS7z61eNmlMsQzmpTdMR41px97MZNR8daPCrR/mmkuYUXoCntFuOhklgjo7dWFHauSyPleuMc1Cvx8/041ryAw5n2yfr0qWC52vtGeM0+gLV65l1DlICSINUX8OxXyTDf0QLSY8wdoDMRGbCMQq6+Z3mX47Rht/UDh/qlyP+7nTjLOt9nKJjDB0DlJs3eFtV03hNZsUh5x6dIefPk31Na7XO+4LfyN7egWbP9PF5hLV1GHBy8gVKbCkhJ78crtAokJnITDhjDn/E8Ts/8Eje9Oefr9PEz8zaYX/8KR+OVzP04qUCdbuUQMSk/+SY/UjfGw69po7fRzRfL0375dNPSxWuKVfdc1pqypXGCGMucN3X1oa53rCuojM+o9FaedH5mc+fUzU7xG++TN2L5jE6Whhv29EbBorBr0gNDGQmMhMO7yTe64cvOBp3lj+pM/TsJ6SAeCsY5rxMwfXAXk42E3WqC40Bf9Eh984/e+PF6he/eW5Fhsznn+W5vrl+qxyvVZsqh8TldnOQICXlyGUnSvL4/TdezKXx5xh5jRYdTUVugnkoTStytiBpnfd3nKCvkm/WyVHexYs3rj16dHclbGa5xptSkdG2mWb0rbJ0WicKmoiU4vEEA++01yD7Zeu721xm8JovmB7cazyOXYYnyOP4MGo8w04av7RFY+Du/eA6cabpEhjKoYoZ+flh6hkyE5kJh6XCj3c/Hb7gqPwF0u40v6Fnzbc38jZnjLocBJG/RAPiS/d/Yvn9N56Na00L7199bjuS8z6oum5tku+uR9Npoxbkp7t4midyPTTHqPIXPwo6hzt+/ZbvZO7JODux0RymqkwpU99xFrJD2pPO3VyTrnAA5uRswqh/jlwGYmTsxm3HpWUZzwEoNepFCq7FZrmue5OHr/J4u61cb15U8do4DK4UtFWn/TqOxEejorsmLCVGl+ne7e+kwtac4HIdjfOOmn5LMPalE/5VxsTmFoyPCqbhr8gEy/EP922FzERmwuHtXnb1tPnWZp6+tbVN//eWsbdvbT2hbz+aSfp09f98akhuZ8S/yD/z5NbrNDLcXsMs5aTTt+d9wet1fDDNF7yg8zgA+/gTY28nTAqOUeExlT77nrG3MwKZmWx8MA0yE2I4L1UKMrN339n2aJVvB/UnXGj8k7NTcASAHtmC48coOO6HC43qDBUcAaBHkpd9zsyj/a3qXxiuUA/QrQkAAv2/JtmpZM5Cv3AAOKx4l+R+OdqCY48aHbkBYKDZSmQKLgKe+us4noErUQDA4Z3Os6qPBI4wAIA9kEbIgyRQbAQAOpG4PNoLgPcIvzIGAEIuAI4CUQJyprNBARsA+l92TEXBEV8TACBwAfCEsJsAINTvOEhFwREhCACRNBxHS/1Z1fYCjDjiCDDwBrWpWqC5GgBQHkrIECrcANA4Ua6fcHIMAKQISkPJoC8oAEi/8P7nQGqaqhGBAKBQiUzGHnHEvgKA/pefUnLEkVByBACKfiX5pOMg9ddxFMhMgIF3EjGQmj6OAAAWDqTtS9mjjdhRANB/6biOIwIQAEj66xAkIQVHHHEEGHgn8ZsJ6biOo0EnRwBADCRl8JveAEBBHXIgLwAebDZCEADSIfXXccSJMQAQGswLgAMAWAZHHZOQnaQJAAbcSRx2S8dZ1fimAAAhnRzxs4P7O4n2KQBInZOoaqfoiCNSEAAMoiABu4tQvgaAQf7JQaQgAIg0XGVBruPY12s5fvL9Ofr4E00ff3wn2RNwVjUAhPocmalpqlbcRIUcBICB6+W49vGU8k1R0t8k/AYwJihgIzMBoN9wHUcASI2TuCbZiVpb84jcOya4oHfiMnPw87TITQDov3Rcx5HQHx4AQoOSBVJoNOdWSVOOtLllNBcEddIjjgqZCQDBWdUD2VQNAEC7JwufdJkouobjsfZz9M/d4629wPX3WTK1h4qZgxxFRMERYOCZgT05Bs0uAGANSA/Hf/PpPB9dHCef3qX/4tKi1OEPcsRRmqoVCo4AMMiX40GxEQCCHDjjJaLv/CDPBcZZW0g0zpz6k8+M0s6qPFZGTas//mzfHWAOcCINAJxl/W+jSUlTNfrrAAA1foH5TMeB61a54FiOHhojPwHj5PjeON99Skqt7zsP5CUAWP0Pg1QUHKXJBTkIALbQqE7+SNqx9m38L8ekYDjZNOxbm3ly1CrvgWX62yM395uFMrgUDwDQidS0U1FwRJMLAAgzyD+JIgceExaaUWgEgIbBPKsaMQgAA+wXR8t0kPhHZAJAqN8HHdNzAXCDo44A0P9rkp1OinBKIQCcRJ/wdDRVo/YMABQWhVKQB325juNhIDMBgE4mCtJxxBEVZwAgaXgwg/db1T2w13BEKw0ABL+9R/2Ujp8clE7h+K4AGHjBb1WjQLQfE3TwAYBBdwK/OYifHASA1DCxf6ELXMIMABoG8ALgUVkZQQgAaZDavo0RNFMDQKTPRxzT0VSNn88CAIEYSAQN1QDQYAawj6NQONwIAISyYxIGJ8cAAEX9wqmv0nFWtf2BWoQgwKALrkmGWmQSqGwDgNQf+116SklTNXU/1PrR9jatbk/TKTc6+laBb3fkdvHim1N0Wn1lZ4GKz/J0nIo74zS3cyfZtMbjWy7RtO/U5ugrLzrv+9+s5Xm583RKeZcKntzolLJ1SOfkK5FyHcfoWo6p1OXkGPXg0TY9OP15KZCZB4DM7Ml+mel5hVy6M9UM5gXARbdyI3+NeFysLpmPtgv84CZNDlfoVHLXjalXlOPcUa56zAOW200lYbm5+UGJ0sox18h31+k41VSOXFPgezc7TlP80Tjp7D3SNc8+fmenQo4/ScWXKh2fY0w+7CDWdt+TU+f3misheSuY54sSvwP3fgk72WEqqgr12SUOMF/rVf64LG1t3C1Gw0cuFfLK9+dI63F5PDp2o1rbcSYrlVKl0zz4M1Xe3Fxq2r8XR28sOGRe5vffTToRBj8IkESXZmref55SpkTl7QLfP8V5KZCZiSEz2+o1M0dHCzzcnyel86SpyuNlJyxsbNy9HZ//yWemGMQ+jvs0VRsOybBPzxV+Abfp/vYdPgLp0SmzuVla39r6sMwbU+k6oVJzBN0Vn3lBAKoVDqRXOPyGSZsHHM7JatwHYahs5x+/nUAAinYBaGmdNw6tbG7cfUVu8h7LZv077edRL3aa/6PNu7P8x+Mv4lN7BAFUcG1cRVe4PXubC5CnMi8FMvMIITOLTSP2yUyusORkPBcm7XijzW2eT5GPQHrx2QxiZqbkiKPa96yg8PcYw9KlKnABMs8FyEW6OrxA+5AaR934U/UXbil7Tk/zh2Vck3nq1zJFrl1UZRo5HN0ybqH1aM3FscKUY/xrct8o9VgZZ1mCzY7jZhQu+1ZtyIWkFmz4zRgf1o3MX5G+LKszMnajGA3f84bvBwmZujtLLr1MPj0lx1mjdzNLTdO8/axAjnvFjs/4C3tqre/szPArNt5xvDSV6Nq0nUYYWqe/yC7Rgqq2XSdZnsoaux4+v/6Ka9i/NTQbjq3y/GZ5fk9sk1DxpXKwDG5GMWa6sQ5+63bKOtR5Pbnpxjj8BVWj9vujQ4387RdF8tUy/c9D6037zncK9N654u6wcD3sdvJy4vtStkuORrj+eLf9OTZ2Y04+Je3eD22GLbX7MpX3JH9+rkiQ8ofpArVRq7nXs0N6e2TkzZWk790jhe7O+1LdruNoVJCoOjosaQpKqby5/4jz8uK+eSmQmT1AZrZMd7ozM3wPlncff7DARx3nMxk+wkpUiT/xJDPTlo36nJkpugA4h903KybaAWFBsXE/OCrZeCRTX+BB83S/MkOOKtLkhaVOc65zqCij5oaG/CtcE6/aACO6HAWgyGa5VqJNlYcvOcrJO8GbYDJ6E4yMvDXLASXLssHLwT2htX0D2Te/4zpTJngzlWOLnubweNAyrCMO2ByXnzlweOv2q2G30WiCbMc416PA3pf0Z9HqHq/EMhfQH/L65MhwjTFOEQcHf3C1/4C3kQ/lu2s0a4YbATb3gmu2JM9b4p0zbsd/5cVN+q1zQXOHrf3uSHNphcPhQbADONgW1GLbdZJ+NvwFSE5tMlg+L9NQ8/YUednvvKhwKEmolm2fH214GeY2b8MT0s4qrzevEz1oPEfvrPHMqrwdi7y9k7xNV+hA+Ci4Q9JXaLYxyFdTHEDyZVlsrLu2TUjhl7Zf5GEevZsNmzzcaf4k8v50KrweK439WXw2EQ9Cfn8VVDTPffB73Gs9ShO+P+akOcbN6tlOWSOfC25+4c+BDdEydbPxp/zFpBq19NbPrWkZRm0e7zf8JKT9Oo6NoPxoe3eXRTvQRB3mg9NnbIVbk8fvr3m1uj1jyOmalwKZSchMZGaTV1+9MaMNVer1zJ5pDpSZYut727wsL3p4mOw7icxMS8GRPwgcbCLcC0Y131cqGBDVtE28jF3Xj2l/Oa3owdbGB3tq3PYoDH84eNxEOKjEb4Jq/E2gHDXOb5qVRxt3F+mYSB+dMMjme+mv8+mnpYrnfWGy/djzVUrK4QK54g/su+dudZ6I9/nt8zfDByWuKT+hn6xN2fsSooaDyM3yh3goWO7bL6r8Is5Q1E+mzl9eDofPe0OT+63ObgDG+uIYdYHXs7J3YhvCOXvX5+1weH3eDWuxRbNka9cR2+FbeUEzip1vieZq9/gDPd48S67dv72z++Ui6307ez3YDf5tct17FA9Bu51OtEw5QsDbSrIvgtD+zWcPyVWr/KWx2HSk4Pa567v788W2DdMwOKU/DjeteDs7zgrtI3wPTfNnphgfrrU/z5+gJTkqxDXnXNc+1VqXyXVm5KhSvLCwh5IO9ipeZmkwLX/t5K2PlXRDaVkN0+51hRYVojAzKdyv8d2o+ZUJctN2Gm28FrYknygvBTIzKWTmmczM0Z8pjFPN53Wz72VbmWjXbzzYroSZ2djk3ewzCaaxjztMy5NV+lmATEfB8apna2YdN1yORLYMkiYOru0u0ueHi5SQNLu0HcHNOPIn3tTBtdfLJDWQkNG65DjO6tjYWxd8cpcebZSWKYUqlT+s0GEEH1o+OkFdj0jYPizNA6qNNkYn2J/k78xy+IXD6DI/J9+Y3FH8WHdfhjSlBAE4y0E10dwMIeFh2q3X7gdWmlK02l1GVLtujOdwk+2Iz1eOBihnvGWuPN7fnY/v7C4je56PINSo0dQjZxgSL9epBTX0Wp2/DOQ5Zor3xVSwXBWEdO55UMu3622aw83Y/kC5xqr6Pr8mqrJfIElo+b6+p4m/sDfvNtY5rC2Pc/PMdUogm82sc5DatSSizssc/ZsS0gtJQ8t0eZyWo42nwuvDTUezmvbd/YqJTrs2u2048nmRrj1FOgBkZgLIzDOZmXZVfkyVbJaPtjq0zp+lvFL6Hk8/0W6eiTNTjLw2nCTvzD6P9xt+XE7Fb1UHpWzTaIKRADR/wYefrw8nrxFScDi540j58KjYQ6X4w7D7xpTmF66VDNd8PesoPS99HcjUuSnjD9YpJcJa03a7cRzik8n6XjznN718arP77Funy/jgKFQTab4h87B5Gmf/1y84o4+fn71C8X4lSj/lgPP2TG/73USvm8rtnZ+ES7ePmdm7TvLeeO+lUtvJbbDuLJHvBkdalOYjMarUCFY549Duz/j87DJuEx39kbXskJnngKs+2vxgNhoWvi+KvBsXR0cLhWAd/AuyYfK4VqPlJDVkOE3CLj02NrnA6Bpunh4+8GuMzERmDmJmRsL3fyl8yPn51mpmSMt0RRpgp6LgaH+O0DaxmLLte/H54TIdIT4SU3X4zc/NLsVu00mzBgWH12eDU/BdOYuq0WzAh0VzLeudoz4K1++QfbOkeaYmtUjpcF6hXhizzkFwuamj855ppJ8Oje8zp5xtlrEdvLn54R/vPGx0qA6WcY2bLnKNpgvbB0h55Orwi0nCpuVaZUGN+UFjfOwIScDx6KB8f5mbXqbtujg7V7iqe7MxzpU+Tfz3h0MLHTuwJ6C1qTpu67o2Gx2dnpcmo3rNnWxePcpx4WGdP0L8ReLLl4k0gci8csZIz3d3uXVeto9bcHcgC5TRNRxT/5vV7ex+x5fNMeSlQGbGITPpoFKemd20vmcjg5SZqfnJwX1U+F1wnd7wJo8jBB2ql6Tp5dVX32rUOOSCn8F1nALSX0IOaUePbVfs2DykkzfvzCvRqfrhGYP7fcg7Ghl5M08nQWqD0sGb9IINFTuMP9zR/STccyWS/ldvP9+twdkLzsYvgKtXeMdP0zv1a7vT1PJt5yc1V8NHTTJ0r7EewTKIflKaZcJ19B35Uqo0zg40cpacM9N4jpyxGGvK2LOeMg/F69RKOocHF8zdvcX9Ni9POp2/XJu330HR8u08ObSlaecneVzT/uywrR34fqYsfzu9L+TsQX7dChxfN+k85eIXtbWXNNn8YDJ+48EP+ItoWe63PapkfHnvruNI5GnEBQzfHFteCmRmDDLzzGWmfV7w/m16LO95V9Fa2wUOUGaejoLjD/UE/d3hZTom0nSifX1dGzXDzSlGblmt18IzAC2ldSE7pJ/wuG2+PeF3SZ5rKY1aUn3HWZAPi5ySL9Mox3ZqbvSXkCaRxnP5zccflTm5L4e+4+siNWAO1NvKcVZ3l9Vnaoi3yzwg7W5zcBjbOToImGQkSJ2dSdvhWZ4fzGMtPHMv8N75BRtspEu705h7HecZ1MRXeJ3u2VpqYxlmqrGOcrRCOoNHXK6xKrUebMeLbQ6jKd6u5v47Rt+Ss01tR3Vd2w7WaY9xOy5+aw1CCXVDBa4p7+2I7XJtWs6ybNqfeoYOIAyjJdXhenUmaDrhEM+s8Xt3O7r1+mWq+LOgGmc0wqlyzHkpkJktkJmtTn9map0P35vyHn7C7+d7RplbGxt32/YzHaTMPH3NMMfM877gyd92HaaD2vPzXKfx+z3/YOsRLet89cRqMPYnqYJ1sIFxmHl0+2WCRq2yyzRdl7HP86Of1uq2DTKPXpef1CH3Z9gfa42/sG8+evThsRUMwmufFTY37g7TgDrVTdV9hsyMQWYerRRkZpL356BlJkIR4BQZHf3Vca4h3zuukwyiAOz0c4UAAKcJMvPonZY+jgBAQROh6ziJO3IfhByx0Vo/4ACcQKERAM4CZCYAAAAAAAAAAAAAAACcInJyTHSCDAAA7EIfRwAAAABIBAVHAAAAAEgEBUcAAAAAAAAAAAAAAAAAAAAAAAAAAAAAAAAAAICzAtdxBABoL0NwIO992eT5z+W3f08t0oC6l8/nNLnz0eP/rnz/JgEAtIHMRGbC2YLL8RyQMjRuHCpQj4qzJvfePzRT+003NnZjbnT0xpr8iDqlkCa1xLfHRnXeF/fyv+R9Pf9GvtP4kbEbxTRvIwAcHjIzgMyEswIFxwP6yu+rhXd+R01Qj9whyvNev9ZtmldfvTHDbWSFWs25XqmUqpQy18vl6q+Uv1nmu+Vu09Vph8Ne5zuN39q4W9RED7JZ/x4BwJmEzERmwtmiaAC8+4/MrH5GJec8zfAGe7zVZf8ZrRQXVCNg3v0NU9DGfqg9V9G0Hahp5e3fV8ty97d/3YzXHbK1Xseh7bd/Ry3FlyE1YsdQxXdpnJdxhT/cT41PpeI/UesyXmrNvPwpHjfNNc6c4XnbeRlaj5YhLl0qeL7WqzxdcWPj7lLrtvzL/OsFjtJ1RbWcQ65dzzrRyn9fvt+Yx9fz+bxS7hTX9F/mMC3/cvl+03ykVuur2qwdr+gpGVqLppFxHF6FXyl/VIxP3zosWM4bvByz+sur99We+VPtmlI0y8uvGGMeBGOcchieDVJzzg7pbZ7BbLvtBYD+Q2YiMwE6GYgjjvxhn3HP0xr/VbzF6/yhL/LjphqbhJPr0DwH4ByH4WMJsfj4mkNV/lBXHEVX+PmF1mVoDkjt0j0bclwj5B2bc11aC/v3EJ2j3aYFQ09lXnLzFTXVjuvGl6CtdgoERyleTz2nyJ3TZB6blvWUkFTKuWeMqvK4daNM8Y9ev3onGi8BpVVtVQLQJ/OAA0qW32gGqlPdU0rNNa1Tm2Hd1Oh5jtftabitVRuE9lbfcyRAjg7wuEW+zRIApAIyE5kJ0MkgnRxTfvv3VFHuFL9sVjjstiWgeFi5MYWh8bd/Vw23e3Lx91SF/5Ruf9l4Ngg74OdPhndL737ZXOYPd16W3Xj+b5g8B6Th6Urtnq80XeMa7Qp1oY0Z55ps2/V0OayMoVmupdoQ/Zf5/AMOzDX+u/j3y2Wuyfs5Xifvh+TfusnNJ3QMguXQ+h9NXuUvBPPw75c/KnWbXhlnmTd8jmvSHodihQAgDZCZyEyAPQamj6PUaKP7YSBxcwCNx6fhWvNhD/uX4w9US804EaU8rtFWuk7TYT3v5T8/boJmpYmv518vyo0PF9iasUuO3dbr5W9wQJn1v6rctT/KX52R2jSdsM3Nkm2aymTqHgFAKiAzkZkA7Qz0yTHSb4aOkDTX0OH1vE51Mm2fy6F62yd3PXr8y6sfTfg8jMNyyle17f/t9dcTN6kADAJcx7E9ZCYyE2Bwmqp1S7gYyrkZWqP0qSqntyDMUH2dw45Dz1/+lXK53G3asCmk9L/m816W3G1ullkJm0v2UB3C9aiMjhbG7cUqVCZ1Z0MCDCxkZhNkJkBgcI44ujRd/LLx5O57/9jMyN96nR5SvxnbFON1Gs018BXps0M9uB70vymTysxHzSly4Vk5YzCahsNuPN7Ucp7/EyqstUuQyt//PX91Ono+Nx/NUw+00Y+Voy7vP6UvTUKVqPkFAFIAmWkhMwGaDcwRR2Vo3VW0+t5vcOuTTzlucrlV/F3bbycRft4qBeHl2cdfNk84Oaq+ocmw/08ivPQF/rMaPZ+kA/rvqpu766mXyXFmeu307Br/OtegF6Q55Y8mr/Km2m0vU9iXyCHX89XOHRnH61L1aSdnjHMrqm1LkH49/8ZtrUzp65NXiz7XnKXZRinVCMKvv/7GPFfRp7hW7cljntcTmRe3Y0kH81gndbPAz723O94stV6eIthoNcfjcVkJgBRBZiIzAQYWB9i2XHNM7ksNWq4PRifMrkdYm291cfTGwujoW6t0CHe41ss1X0/+thsv4+S23/PpCHRblv21h7Eb2/glBID0QGbuhcwEGCDxEDwtOBhKHIQ9NXecFhyA02EAegQAqYHMTCdkJqQBfnIwpTY37ha4yWLlLNcqtdaPazvOBK5DBgCHhcwEgCMjP23VqYkDAACaITMBAAAAEsJ1HAEA2kNTNQAAAAAkgoIjAAAAACSCgiMAAAAAAAAAAAAAAAAAAAAAAAAAAAAAAAAAAMBZges4AgC0h7OqAQAAACARFBwBAAAAIBEUHAEAAAAAAAAAAAAAAAAAAAAAAAAAAAAAAAAAAM4KXMcRAKA9nFUNAAAAAImg4AgAAAAAiaDgCAAAAAAAAAAAAAAAAAAAAAAAAAAAAAAAAAAAcFbgOo4AAO3hrGoAAAAASAQFRwAAAABIBAVHAAAAAAAAAAAAAAAAAAAAAAAAAAAAAAAAAACAswLXcQQAaA9nVQMAAABAIig4AgAAAEAiKDgCAAAAAAAAAAAAAAAAAAAAAAAAAAAAAAAAAACcFbiOIwBAe/8RVimNgptCcocAAAAASUVORK5CYII=)"
      ],
      "metadata": {
        "id": "opDEXqGj4ICS"
      }
    },
    {
      "cell_type": "markdown",
      "source": [
        "Challenge:\n",
        "Return statement with if… else\n",
        "Easy\n",
        "Problem Description\n",
        "\n",
        "Create a function to check if a character is a vowel or not.\n",
        "\n",
        "Step 1\n",
        "\n",
        "Create a function:\n",
        "\n",
        "    Create a function named checkVowel().\n",
        "    This function should accept an argument: character.\n",
        "    If character is a vowel, return vowel.\n",
        "    If character is not a vowel, return not vowel.\n",
        "\n",
        "Step 2\n",
        "\n",
        "Outside of the function:\n",
        "\n",
        "    Get string inputs from the user and store them in character.\n",
        "    Call the checkVowel() function with arguments character and store the value returned in the result variable.\n",
        "    Print result.\n",
        "\n",
        "For more hints, see the code outline.\n",
        "Example\n",
        "\n",
        "Test Input\n",
        "a\n",
        "\n",
        "Expected Output\n",
        "vowel\n",
        "\n",
        "main.py\n",
        "1\n",
        "2\n",
        "3\n",
        "4\n",
        "5\n",
        "6\n",
        "7\n",
        "8\n",
        "9\n",
        "10\n",
        "11\n",
        "Console\n",
        "\n",
        "\n"
      ],
      "metadata": {
        "id": "ebCj6XxD4NPp"
      }
    },
    {
      "cell_type": "markdown",
      "source": [
        "# Replace ___ with your code\n",
        "def check_vowel(character):\n",
        "\n",
        "    if(character == 'a' or character == 'e' or character == 'i' or character == 'o' or character == 'u'):\n",
        "        ___\n",
        "    \n",
        "    ___\n",
        "\n",
        "character = input()\n",
        "result = ___\n",
        "print(result)"
      ],
      "metadata": {
        "id": "QkhxfDTe4RCd"
      }
    },
    {
      "cell_type": "code",
      "source": [
        "# Replace ___ with your code\n",
        "def check_vowel(character):\n",
        "\n",
        "    if(character == 'a' or character == 'e' or character == 'i' or character == 'o' or character == 'u'):\n",
        "        ___\n",
        "\n",
        "    ___\n",
        "\n",
        "character = input()\n",
        "result = ___\n",
        "print(result)"
      ],
      "metadata": {
        "id": "a0sHxsqE4SaF"
      },
      "execution_count": null,
      "outputs": []
    },
    {
      "cell_type": "code",
      "source": [
        "# Replace ___ with your code\n",
        "def check_vowel(character):\n",
        "\n",
        "    if(character == 'a' or character == 'e' or character == 'i' or character == 'o' or character == 'u'):\n",
        "        return \"vowel\"\n",
        "\n",
        "    return \"not vowel\"\n",
        "\n",
        "character = input(\"Put charakter: \")\n",
        "result = check_vowel(character)\n",
        "print(result)"
      ],
      "metadata": {
        "colab": {
          "base_uri": "https://localhost:8080/"
        },
        "id": "JnZIkBOi428j",
        "outputId": "e54a0ac7-e917-426f-e804-01b18d033833"
      },
      "execution_count": 8,
      "outputs": [
        {
          "output_type": "stream",
          "name": "stdout",
          "text": [
            "Put charakter: a\n",
            "vowel\n"
          ]
        }
      ]
    },
    {
      "cell_type": "markdown",
      "source": [
        "przetestuj kilka razy działanie dla danych a b c f i"
      ],
      "metadata": {
        "id": "-CQbxG205PDv"
      }
    },
    {
      "cell_type": "markdown",
      "source": [
        "Common Issues That Trouble Beginners\n",
        "\n",
        "1. Not Using the Return Value Properly\n",
        "\n",
        "Let's take an example.\n",
        "\n",
        "def add_numbers(n1, n2):\n",
        "\n",
        "    result = n1 + n2\n",
        "\n",
        "    return result\n",
        "\n",
        "\n",
        "\n",
        "add_numbers(10, 20)\n",
        "\n",
        "Can you guess the output of this program?\n",
        "\n",
        "This program will not print anything. At first glance, it seems the add_numbers() function is returning 30, which is correct.\n",
        "\n",
        "However, the return value is not assigned to anything, nor have we printed it. So, the value will be lost. Let's see why with the help of another example.\n",
        "\n",
        "30\n",
        "\n",
        "'Hello there'\n",
        "\n",
        "If you run this program, we will not see anything because putting values directly in the program won't do anything unless we print it or use it.\n",
        "\n",
        "The same thing is happening in the first program. The add_numbers() function is returning a value, but we are not using it. To fix this, we can assign this value to a variable or print the result directly.\n",
        "\n",
        "def add_numbers(n1, n2):\n",
        "\n",
        "    result = n1 + n2\n",
        "\n",
        "    return result\n",
        "\n",
        "\n",
        "\n",
        "total = add_numbers(10, 20)\n",
        "\n",
        "print(total)     # 30\n",
        "\n",
        "\n",
        "\n",
        "print(add_numbers(20, 30))    # 50\n",
        "\n",
        "Idea Emoji\n",
        "Takeaway: If a function returns a value, always assign it to a variable or use it in some other way. Otherwise, the returned value will be lost.\n",
        "\n",
        "2. Wrong number of arguments\n",
        "\n",
        "The number of arguments in the function definition and function call must match. Otherwise, we will get an error.\n",
        "\n",
        "def add_numbers(n1, n2):\n",
        "\n",
        "    result = n1 + n2\n",
        "\n",
        "    return result\n",
        "\n",
        "\n",
        "\n",
        "total = add_numbers(100)\n",
        "\n",
        "print(total)\n",
        "\n",
        "\n",
        "\n",
        "# TypeError: add_numbers() missing 1 required positional argument: 'n2'\n",
        "\n",
        "Here, Python is complaining that the add_numbers() function takes two arguments, but we are only using one argument during the function call.\n",
        "\n",
        "3. Wrong Indentation\n",
        "\n",
        "def print_hello():\n",
        "\n",
        "print('Hello dear')\n",
        "\n",
        "\n",
        "\n",
        "print_hello()\n",
        "\n",
        "\n",
        "\n",
        "# IndentationError: expected an indented block\n",
        "\n",
        "Here, Python thinks the body of print_hello() is empty.\n",
        "\n",
        "main.py\n",
        "2\n",
        "Output\n",
        "\n"
      ],
      "metadata": {
        "id": "3qqUxV7t5f2_"
      }
    },
    {
      "cell_type": "code",
      "source": [
        "def add_numbers(n1, n2):\n",
        "    result = n1 + n2\n",
        "    return result\n",
        "\n",
        "add_numbers(10, 20)\n",
        "\n",
        "\"\"\"\n",
        "funkcja zwraca wartosć\n",
        "jednak nie jest ona przypisywana w miejscu wywołania do żadnej zmiennej\n",
        "więc wartośc jest tracona\n",
        "\"\"\""
      ],
      "metadata": {
        "colab": {
          "base_uri": "https://localhost:8080/",
          "height": 52
        },
        "id": "Pb_oFePv5s8_",
        "outputId": "51a80217-5e5f-4d55-d851-97fc1ccaa864"
      },
      "execution_count": 9,
      "outputs": [
        {
          "output_type": "execute_result",
          "data": {
            "text/plain": [
              "'\\nfunkcja zwraca wartosć\\njednak nie jest ona przypisywana w miejscu wywołania do żadnej zmiennej\\nwięc wartośc jest tracona\\n'"
            ],
            "application/vnd.google.colaboratory.intrinsic+json": {
              "type": "string"
            }
          },
          "metadata": {},
          "execution_count": 9
        }
      ]
    },
    {
      "cell_type": "code",
      "source": [
        "def add_numbers(n1, n2):\n",
        "    result = n1 + n2\n",
        "    return result\n",
        "\n",
        "total = add_numbers(10, 20)\n",
        "print(total)     # 30\n",
        "\n",
        "print(add_numbers(20, 30))    # 50\n",
        "\n",
        "\"\"\"\n",
        "tutaj też nie przypisujemy zwracanej wartości ,\n",
        "ale jst ona przekazywana do funkcji print()\n",
        "i tam wykorzystywana do wyświetlenia\n",
        "\"\"\""
      ],
      "metadata": {
        "colab": {
          "base_uri": "https://localhost:8080/",
          "height": 87
        },
        "id": "Dk8zwYjs6UvY",
        "outputId": "a4a75a03-25ce-4d4d-ab3e-bee3c2786663"
      },
      "execution_count": 11,
      "outputs": [
        {
          "output_type": "stream",
          "name": "stdout",
          "text": [
            "30\n",
            "50\n"
          ]
        },
        {
          "output_type": "execute_result",
          "data": {
            "text/plain": [
              "'\\ntutaj też nie przypisujemy zwracanej wartości , \\nale jst ona przekazywana do funkcji print() \\ni tam wykorzystywana do wyświetlenia\\n'"
            ],
            "application/vnd.google.colaboratory.intrinsic+json": {
              "type": "string"
            }
          },
          "metadata": {},
          "execution_count": 11
        }
      ]
    },
    {
      "cell_type": "code",
      "source": [
        "def add_numbers(n1, n2):\n",
        "    result = n1 + n2\n",
        "    return result\n",
        "\n",
        "total = add_numbers(100)\n",
        "print(total)\n",
        "\n",
        "# TypeError: add_numbers() missing 1 required positional argument: 'n2'"
      ],
      "metadata": {
        "colab": {
          "base_uri": "https://localhost:8080/",
          "height": 245
        },
        "id": "Gn32ByxE7mU0",
        "outputId": "08f3f5a1-0958-4ab5-f454-cee36260dff9"
      },
      "execution_count": 12,
      "outputs": [
        {
          "output_type": "error",
          "ename": "TypeError",
          "evalue": "add_numbers() missing 1 required positional argument: 'n2'",
          "traceback": [
            "\u001b[0;31m---------------------------------------------------------------------------\u001b[0m",
            "\u001b[0;31mTypeError\u001b[0m                                 Traceback (most recent call last)",
            "\u001b[0;32m<ipython-input-12-26cadae40a72>\u001b[0m in \u001b[0;36m<cell line: 5>\u001b[0;34m()\u001b[0m\n\u001b[1;32m      3\u001b[0m     \u001b[0;32mreturn\u001b[0m \u001b[0mresult\u001b[0m\u001b[0;34m\u001b[0m\u001b[0;34m\u001b[0m\u001b[0m\n\u001b[1;32m      4\u001b[0m \u001b[0;34m\u001b[0m\u001b[0m\n\u001b[0;32m----> 5\u001b[0;31m \u001b[0mtotal\u001b[0m \u001b[0;34m=\u001b[0m \u001b[0madd_numbers\u001b[0m\u001b[0;34m(\u001b[0m\u001b[0;36m100\u001b[0m\u001b[0;34m)\u001b[0m\u001b[0;34m\u001b[0m\u001b[0;34m\u001b[0m\u001b[0m\n\u001b[0m\u001b[1;32m      6\u001b[0m \u001b[0mprint\u001b[0m\u001b[0;34m(\u001b[0m\u001b[0mtotal\u001b[0m\u001b[0;34m)\u001b[0m\u001b[0;34m\u001b[0m\u001b[0;34m\u001b[0m\u001b[0m\n\u001b[1;32m      7\u001b[0m \u001b[0;34m\u001b[0m\u001b[0m\n",
            "\u001b[0;31mTypeError\u001b[0m: add_numbers() missing 1 required positional argument: 'n2'"
          ]
        }
      ]
    },
    {
      "cell_type": "code",
      "source": [
        "def add_numbers(n1, n2):\n",
        "    result = n1 + n2\n",
        "    return result\n",
        "\n",
        "total = add_numbers(100,20,10)\n",
        "print(total)\n",
        "\n",
        "# TypeError: add_numbers() takes 2 positional arguments but 3 were given"
      ],
      "metadata": {
        "colab": {
          "base_uri": "https://localhost:8080/",
          "height": 245
        },
        "id": "ZZyR9BnJ7-4E",
        "outputId": "5d370189-fcd8-474a-b7d9-e67c356bf78e"
      },
      "execution_count": 14,
      "outputs": [
        {
          "output_type": "error",
          "ename": "TypeError",
          "evalue": "add_numbers() takes 2 positional arguments but 3 were given",
          "traceback": [
            "\u001b[0;31m---------------------------------------------------------------------------\u001b[0m",
            "\u001b[0;31mTypeError\u001b[0m                                 Traceback (most recent call last)",
            "\u001b[0;32m<ipython-input-14-263cd2801e25>\u001b[0m in \u001b[0;36m<cell line: 5>\u001b[0;34m()\u001b[0m\n\u001b[1;32m      3\u001b[0m     \u001b[0;32mreturn\u001b[0m \u001b[0mresult\u001b[0m\u001b[0;34m\u001b[0m\u001b[0;34m\u001b[0m\u001b[0m\n\u001b[1;32m      4\u001b[0m \u001b[0;34m\u001b[0m\u001b[0m\n\u001b[0;32m----> 5\u001b[0;31m \u001b[0mtotal\u001b[0m \u001b[0;34m=\u001b[0m \u001b[0madd_numbers\u001b[0m\u001b[0;34m(\u001b[0m\u001b[0;36m100\u001b[0m\u001b[0;34m,\u001b[0m\u001b[0;36m20\u001b[0m\u001b[0;34m,\u001b[0m\u001b[0;36m10\u001b[0m\u001b[0;34m)\u001b[0m\u001b[0;34m\u001b[0m\u001b[0;34m\u001b[0m\u001b[0m\n\u001b[0m\u001b[1;32m      6\u001b[0m \u001b[0mprint\u001b[0m\u001b[0;34m(\u001b[0m\u001b[0mtotal\u001b[0m\u001b[0;34m)\u001b[0m\u001b[0;34m\u001b[0m\u001b[0;34m\u001b[0m\u001b[0m\n\u001b[1;32m      7\u001b[0m \u001b[0;34m\u001b[0m\u001b[0m\n",
            "\u001b[0;31mTypeError\u001b[0m: add_numbers() takes 2 positional arguments but 3 were given"
          ]
        }
      ]
    },
    {
      "cell_type": "code",
      "source": [
        "def print_hello():\n",
        "print('Hello dear')\n",
        "\n",
        "print_hello()\n",
        "\n",
        "# IndentationError: expected an indented block"
      ],
      "metadata": {
        "colab": {
          "base_uri": "https://localhost:8080/",
          "height": 141
        },
        "id": "gYbAI9dt8Pgl",
        "outputId": "e0b88d91-d82f-4a13-a4ad-3cfa3c655fc5"
      },
      "execution_count": 15,
      "outputs": [
        {
          "output_type": "error",
          "ename": "IndentationError",
          "evalue": "expected an indented block after function definition on line 1 (<ipython-input-15-fd05f3372bea>, line 2)",
          "traceback": [
            "\u001b[0;36m  File \u001b[0;32m\"<ipython-input-15-fd05f3372bea>\"\u001b[0;36m, line \u001b[0;32m2\u001b[0m\n\u001b[0;31m    print('Hello dear')\u001b[0m\n\u001b[0m    ^\u001b[0m\n\u001b[0;31mIndentationError\u001b[0m\u001b[0;31m:\u001b[0m expected an indented block after function definition on line 1\n"
          ]
        }
      ]
    },
    {
      "cell_type": "markdown",
      "source": [
        "Bład liczba argumentów funkcji zdefiniowana i liczba w wwywołaniu funcji musi być zgodna"
      ],
      "metadata": {
        "id": "gYMk7Ld27rVi"
      }
    },
    {
      "cell_type": "markdown",
      "source": [
        "kod funkcji musi być odpowiednio sformatowany. Wymagane są odpowiednie \"wcięcia\" oznaczające blok kodu do wykonania"
      ],
      "metadata": {
        "id": "gXglaC9T8V7Q"
      }
    },
    {
      "cell_type": "markdown",
      "source": [
        "https://app.programiz.pro/course/learn-recursion-with-python/local-variables?page=1"
      ],
      "metadata": {
        "id": "c4RfIggi9DrI"
      }
    },
    {
      "cell_type": "markdown",
      "source": [],
      "metadata": {
        "id": "KMimYCMR9F5U"
      }
    }
  ]
}